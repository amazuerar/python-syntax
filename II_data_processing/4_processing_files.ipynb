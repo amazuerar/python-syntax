{
 "cells": [
  {
   "cell_type": "code",
   "execution_count": null,
   "id": "8d0b72f0",
   "metadata": {},
   "outputs": [],
   "source": [
    "import glob, os\n",
    "import ast\n",
    "import collections\n",
    "import json\n",
    "from pymongo import MongoClient\n",
    "from bson.objectid import ObjectId"
   ]
  },
  {
   "cell_type": "code",
   "execution_count": null,
   "id": "13433b30",
   "metadata": {},
   "outputs": [],
   "source": [
    "client = MongoClient('mongodb://######################/')\n",
    "db = client['SONAR_CHALLENGE']\n",
    "collection = db[\"python_repositories_metadata\"]"
   ]
  },
  {
   "cell_type": "code",
   "execution_count": null,
   "id": "392e5132",
   "metadata": {},
   "outputs": [],
   "source": [
    "def get_source(python_file):\n",
    "    \n",
    "    source_code = None\n",
    "    \n",
    "    with open(os.path.join(python_file), \"rb\") as f:\n",
    "        source_code = f.read()\n",
    "        f.close()\n",
    "        \n",
    "    return source_code"
   ]
  },
  {
   "cell_type": "code",
   "execution_count": null,
   "id": "53073acb",
   "metadata": {},
   "outputs": [],
   "source": [
    "def get_frequency(syntax_elements):\n",
    "\n",
    "    return dict(collections.Counter(syntax_elements))"
   ]
  },
  {
   "cell_type": "code",
   "execution_count": null,
   "id": "192bd0b2",
   "metadata": {},
   "outputs": [],
   "source": [
    "def get_syntax_elements(python_file):\n",
    "    \n",
    "    source_code = get_source(python_file)\n",
    "\n",
    "    if source_code != None:\n",
    "        tree = ast.parse(source_code)\n",
    "        elements = [child.__class__.__name__ for node in ast.walk(tree) for child in ast.iter_child_nodes(node) if isinstance(child, ast.AST)]\n",
    "        return elements"
   ]
  },
  {
   "cell_type": "code",
   "execution_count": null,
   "id": "1a3ff1a1",
   "metadata": {},
   "outputs": [],
   "source": [
    "def processing_files():\n",
    "           \n",
    "    try:\n",
    "        \n",
    "        cursors = collection.find({'clone':True,'syntax':False})\n",
    "        \n",
    "        for repo in cursors:\n",
    "\n",
    "            projects_folder_path = f'./repositories/{repo[\"full_name\"].replace(\"/\", \"__\")}'\n",
    "\n",
    "            files = []\n",
    "\n",
    "            for file_name in glob.iglob(f'{projects_folder_path}/**', recursive=True):\n",
    "                if os.path.isfile(file_name):\n",
    "                    if file_name.endswith('.py') and 'test' not in file_name:\n",
    "\n",
    "                        data_file = {}  \n",
    "                        data_file['file_name'] = file_name\n",
    "                        \n",
    "                        try:\n",
    "                            data_file['syntax_elements_in_file'] = get_frequency(get_syntax_elements(file_name))\n",
    "                            files.append(data_file)\n",
    "                        except:\n",
    "                            pass\n",
    "                        \n",
    "            collection.update_one({'_id': ObjectId(repo['_id'])},\n",
    "                                       {\"$set\": \n",
    "                                        {\n",
    "                                            'syntax_for_each_file' : files,\n",
    "                                            'syntax': True\n",
    "                                        }\n",
    "                                       })\n",
    "                        \n",
    "    except Exception as e:\n",
    "        \n",
    "        print(e)\n",
    "        collection.update_one({'_id': ObjectId(repo['_id'])},\n",
    "                       {\"$set\": \n",
    "                        {\n",
    "                            'syntax': False\n",
    "                        }\n",
    "                       })\n",
    "\n",
    "\n"
   ]
  },
  {
   "cell_type": "code",
   "execution_count": null,
   "id": "74b0447b",
   "metadata": {},
   "outputs": [],
   "source": [
    "def main():\n",
    "    processing_files()\n",
    "\n",
    "if __name__ == \"__main__\":\n",
    "    main()"
   ]
  }
 ],
 "metadata": {
  "kernelspec": {
   "display_name": "Py10",
   "language": "python",
   "name": "py10"
  },
  "language_info": {
   "codemirror_mode": {
    "name": "ipython",
    "version": 3
   },
   "file_extension": ".py",
   "mimetype": "text/x-python",
   "name": "python",
   "nbconvert_exporter": "python",
   "pygments_lexer": "ipython3",
   "version": "3.10.4"
  }
 },
 "nbformat": 4,
 "nbformat_minor": 5
}
