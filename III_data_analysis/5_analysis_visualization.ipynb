{
 "cells": [
  {
   "cell_type": "code",
   "execution_count": null,
   "id": "351ddcaa",
   "metadata": {},
   "outputs": [],
   "source": [
    "import collections\n",
    "import json\n",
    "from pymongo import MongoClient\n",
    "from bson.objectid import ObjectId\n",
    "import matplotlib.pyplot as plt\n",
    "import seaborn as sns"
   ]
  },
  {
   "cell_type": "code",
   "execution_count": null,
   "id": "0823b8c6",
   "metadata": {},
   "outputs": [],
   "source": [
    "client = MongoClient('mongodb://######################/')\n",
    "db = client['SONAR_CHALLENGE']\n",
    "collection = db[\"python_repositories_metadata\"]"
   ]
  },
  {
   "cell_type": "code",
   "execution_count": null,
   "id": "cbe73a13",
   "metadata": {},
   "outputs": [],
   "source": [
    "def merge_dict(dict1, dict2):\n",
    "    final_dict = dict1\n",
    "    for k, v in dict2.items():\n",
    "        if k in final_dict:\n",
    "            final_dict[k] = dict1.get(k) + v\n",
    "        else:\n",
    "            final_dict[k] = v\n",
    "            \n",
    "    sorted_dict = {}\n",
    "    sorted_keys = sorted(final_dict, key = final_dict.get,reverse=True)  \n",
    "\n",
    "    for sk in sorted_keys:\n",
    "        sorted_dict[sk] = final_dict[sk]\n",
    "            \n",
    "    return sorted_dict"
   ]
  },
  {
   "cell_type": "code",
   "execution_count": null,
   "id": "1a43375f",
   "metadata": {},
   "outputs": [],
   "source": [
    "def get_syntax_in_files():\n",
    "           \n",
    "    try:    \n",
    "        cursors = collection.find({'syntax_for_each_file' : { '$exists':True}})\n",
    "        syntax_in_files = {}\n",
    "        for repo in cursors:\n",
    "            list_of_files = repo['syntax_for_each_file']\n",
    "            if len(list_of_files) > 0:  \n",
    "                for file in list_of_files:\n",
    "                    syntax_in_files = merge_dict(syntax_in_files, file['syntax_elements_in_file']) \n",
    "        return syntax_in_files    \n",
    "    except Exception as e:\n",
    "        print(e)"
   ]
  },
  {
   "cell_type": "code",
   "execution_count": null,
   "id": "f47aa92f",
   "metadata": {},
   "outputs": [],
   "source": [
    "syntax_in_files = get_syntax_in_files()"
   ]
  },
  {
   "cell_type": "code",
   "execution_count": null,
   "id": "56a659ce",
   "metadata": {},
   "outputs": [],
   "source": [
    "names = list(syntax_in_files.keys())\n",
    "values = list(syntax_in_files.values())\n",
    "\n",
    "plt.figure(figsize = (30,20))\n",
    "plt.xticks(rotation = 90)\n",
    "plt.title('Frequency of syntax elements in Python projects')\n",
    "plt.xlabel('Syntax elements')\n",
    "plt.ylabel('Frequency')\n",
    "sns.barplot(x = names, y = values)\n",
    "plt.savefig('syntax_frequency.pdf', bbox_inches = 'tight')"
   ]
  }
 ],
 "metadata": {
  "kernelspec": {
   "display_name": "Py10",
   "language": "python",
   "name": "py10"
  },
  "language_info": {
   "codemirror_mode": {
    "name": "ipython",
    "version": 3
   },
   "file_extension": ".py",
   "mimetype": "text/x-python",
   "name": "python",
   "nbconvert_exporter": "python",
   "pygments_lexer": "ipython3",
   "version": "3.10.4"
  }
 },
 "nbformat": 4,
 "nbformat_minor": 5
}
