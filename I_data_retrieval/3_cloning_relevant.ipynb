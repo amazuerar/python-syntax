{
 "cells": [
  {
   "cell_type": "code",
   "execution_count": null,
   "id": "ee2f5743",
   "metadata": {},
   "outputs": [],
   "source": [
    "import json\n",
    "import requests\n",
    "import pandas as pd\n",
    "from git import Repo\n",
    "from bson import json_util\n",
    "from pymongo import MongoClient\n",
    "from bson.objectid import ObjectId"
   ]
  },
  {
   "cell_type": "code",
   "execution_count": null,
   "id": "9359fc7e",
   "metadata": {},
   "outputs": [],
   "source": [
    "client = MongoClient('mongodb://######################/')\n",
    "db = client['SONAR_CHALLENGE']\n",
    "collection = db[\"python_repositories_metadata\"]"
   ]
  },
  {
   "cell_type": "code",
   "execution_count": null,
   "id": "7f8fae43",
   "metadata": {},
   "outputs": [],
   "source": [
    "def clone_repo_update_status():\n",
    "    \n",
    "    cursors = collection.find({'clone':False})\n",
    "    \n",
    "    for repo in cursors:\n",
    "        \n",
    "        full_name = repo['full_name']\n",
    "        \n",
    "        try:\n",
    "            Repo.clone_from(f'https://github.com/{full_name}.git', f'./repositories/{full_name.replace(\"/\", \"__\")}')\n",
    "            collection.update_one({'_id': ObjectId(repo['_id'])},\n",
    "                   {\"$set\": \n",
    "                    {\n",
    "                        'clone': True\n",
    "                    }\n",
    "                   })\n",
    "        except Exception as e:\n",
    "            collection.update_one({'_id': ObjectId(repo['_id'])},\n",
    "                   {\"$set\": \n",
    "                    {\n",
    "                        'clone': False\n",
    "                    }\n",
    "                   })\n",
    "            continue"
   ]
  },
  {
   "cell_type": "code",
   "execution_count": null,
   "id": "fbf91eea",
   "metadata": {},
   "outputs": [],
   "source": [
    "def main():\n",
    "    clone_repo_update_status()\n",
    "\n",
    "if __name__ == \"__main__\":\n",
    "    main()"
   ]
  }
 ],
 "metadata": {
  "kernelspec": {
   "display_name": "Py10",
   "language": "python",
   "name": "py10"
  },
  "language_info": {
   "codemirror_mode": {
    "name": "ipython",
    "version": 3
   },
   "file_extension": ".py",
   "mimetype": "text/x-python",
   "name": "python",
   "nbconvert_exporter": "python",
   "pygments_lexer": "ipython3",
   "version": "3.10.4"
  }
 },
 "nbformat": 4,
 "nbformat_minor": 5
}
