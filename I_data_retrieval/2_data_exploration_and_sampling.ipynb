{
 "cells": [
  {
   "cell_type": "code",
   "execution_count": null,
   "id": "59f21eb1",
   "metadata": {},
   "outputs": [],
   "source": [
    "import json\n",
    "import pandas as pd\n",
    "import numpy as np\n",
    "from pymongo import MongoClient\n",
    "import matplotlib.pyplot as plt\n",
    "import seaborn as sns\n",
    "import datetime"
   ]
  },
  {
   "cell_type": "code",
   "execution_count": null,
   "id": "22b8b71d",
   "metadata": {},
   "outputs": [],
   "source": [
    "client = MongoClient('mongodb://######################/')\n",
    "db = client['SONAR_CHALLENGE']\n",
    "collection = db[\"python_repositories_metadata\"]"
   ]
  },
  {
   "cell_type": "code",
   "execution_count": null,
   "id": "bf016753",
   "metadata": {},
   "outputs": [],
   "source": [
    "def get_repos_with_metadata():\n",
    "    \n",
    "    df = pd.DataFrame(columns=['full_name','stargazers_count'])\n",
    "    eol_date = datetime.datetime.strptime('2022-01-01T00:00:00-05:00', \"%Y-%m-%dT%H:%M:%S%z\")\n",
    "    \n",
    "    cursors = collection.find({'available':True,'revised':True})\n",
    "        \n",
    "    for repo in cursors:\n",
    "        \n",
    "        last_update = datetime.datetime.strptime(repo['pushed_at'], '%Y-%m-%dT%H:%M:%S%z')   \n",
    "        \n",
    "        if last_update >= eol_date and repo['language'] == 'Python':\n",
    "            \n",
    "            entry = pd.DataFrame.from_dict({ \n",
    "                'full_name': [repo['full_name']], \n",
    "                'stargazers_count': [repo['stargazers_count']]\n",
    "            })\n",
    "\n",
    "            df = pd.concat([df, entry], ignore_index=True)\n",
    "        \n",
    "    new_dtypes = {'stargazers_count': int}\n",
    "    df = df.astype(new_dtypes)\n",
    "    \n",
    "    return df"
   ]
  },
  {
   "cell_type": "code",
   "execution_count": null,
   "id": "c680766f",
   "metadata": {},
   "outputs": [],
   "source": [
    "df_popularity = get_repos_with_metadata()"
   ]
  },
  {
   "cell_type": "code",
   "execution_count": null,
   "id": "9143d74e",
   "metadata": {},
   "outputs": [],
   "source": [
    "df_popularity.describe()"
   ]
  },
  {
   "cell_type": "code",
   "execution_count": null,
   "id": "f8992251",
   "metadata": {},
   "outputs": [],
   "source": [
    "sns.boxplot(x = 'stargazers_count', data = df_popularity, showfliers = False)"
   ]
  },
  {
   "cell_type": "code",
   "execution_count": null,
   "id": "0b9a2484",
   "metadata": {},
   "outputs": [],
   "source": [
    "df_popularity_mask = df_popularity['stargazers_count'] >= 1513\n",
    "filtered_df_popularity = df_popularity[df_popularity_mask]"
   ]
  },
  {
   "cell_type": "code",
   "execution_count": null,
   "id": "0fa9d0fc",
   "metadata": {},
   "outputs": [],
   "source": [
    "filtered_df_popularity"
   ]
  },
  {
   "cell_type": "code",
   "execution_count": null,
   "id": "186732d4",
   "metadata": {},
   "outputs": [],
   "source": [
    "def set_clone_syntax_status(dataframe):\n",
    "    for index, row in dataframe.iterrows():\n",
    "        filter_query = { 'full_name': row['full_name'] }\n",
    "        set_clone_syntax_flag = { '$set': { 'clone': False, 'syntax': False } }\n",
    "\n",
    "        collection.update_one(filter_query, set_clone_syntax_flag)"
   ]
  },
  {
   "cell_type": "code",
   "execution_count": null,
   "id": "c8ab19ef",
   "metadata": {},
   "outputs": [],
   "source": [
    "# set_clone_syntax_status(filtered_df_popularity)"
   ]
  }
 ],
 "metadata": {
  "kernelspec": {
   "display_name": "Py10",
   "language": "python",
   "name": "py10"
  },
  "language_info": {
   "codemirror_mode": {
    "name": "ipython",
    "version": 3
   },
   "file_extension": ".py",
   "mimetype": "text/x-python",
   "name": "python",
   "nbconvert_exporter": "python",
   "pygments_lexer": "ipython3",
   "version": "3.10.4"
  }
 },
 "nbformat": 4,
 "nbformat_minor": 5
}
