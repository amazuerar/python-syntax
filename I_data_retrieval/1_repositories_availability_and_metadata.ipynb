{
 "cells": [
  {
   "cell_type": "code",
   "execution_count": null,
   "id": "4acf3ba1",
   "metadata": {},
   "outputs": [],
   "source": [
    "import json\n",
    "import datetime\n",
    "import requests\n",
    "from dateutil import parser\n",
    "from itertools import cycle\n",
    "from pymongo import MongoClient\n",
    "from bson.objectid import ObjectId"
   ]
  },
  {
   "cell_type": "code",
   "execution_count": null,
   "id": "1618c3fd",
   "metadata": {},
   "outputs": [],
   "source": [
    "client = MongoClient('mongodb://######################/')\n",
    "db = client['SONAR_CHALLENGE']\n",
    "collection = db[\"python_repositories_metadata\"]"
   ]
  },
  {
   "cell_type": "code",
   "execution_count": null,
   "id": "314e8492",
   "metadata": {},
   "outputs": [],
   "source": [
    "tokens = ['tkn1',\n",
    "          'tkn2',\n",
    "          'tkn3',\n",
    "          'tkn4',\n",
    "          'tkn5']"
   ]
  },
  {
   "cell_type": "code",
   "execution_count": null,
   "id": "cf921fb1",
   "metadata": {},
   "outputs": [],
   "source": [
    "list_of_repositories = [line.split(None, 1)[1].rstrip() for line in open('./github_repos.txt', 'r')]"
   ]
  },
  {
   "cell_type": "code",
   "execution_count": null,
   "id": "15117775",
   "metadata": {},
   "outputs": [],
   "source": [
    "def insert_projects_in_db(list_of_repo):\n",
    "    \n",
    "    for repository in list_of_repo:\n",
    "        \n",
    "        repo_init = {}\n",
    "        \n",
    "        repo_init['html_url'] = repo_url = repository[:-1] if repository.endswith('/') else repository\n",
    "        repo_init['available'] = False\n",
    "        repo_init['revised'] = False\n",
    "        \n",
    "        json_data_to_collection = json.dumps(repo_init)\n",
    "        collection.insert_one(json.loads(json_data_to_collection))"
   ]
  },
  {
   "cell_type": "code",
   "execution_count": null,
   "id": "d5bece28",
   "metadata": {},
   "outputs": [],
   "source": [
    "# insert_projects_in_db(list_of_repositories)"
   ]
  },
  {
   "cell_type": "code",
   "execution_count": null,
   "id": "a5227dea",
   "metadata": {},
   "outputs": [],
   "source": [
    "def availability_process(list_of_repo):\n",
    "    \n",
    "    alternator = cycle(range(4))\n",
    "    \n",
    "    cursors = collection.find({'available':False,'revised':False})\n",
    "        \n",
    "    for repo in cursors:\n",
    "        \n",
    "        active_tkn = tokens[next(alternator)]\n",
    "        \n",
    "        headers = {'Authorization': 'token ' + active_tkn}\n",
    "        repo_url = repo['html_url'].replace('http://github.com/','')\n",
    "        repo_url = repo_url[:-1] if repo_url.endswith('/') else repo_url\n",
    "        \n",
    "        try:\n",
    "            \n",
    "            response = requests.get(f'https://api.github.com/repos/{repo_url}', headers=headers)\n",
    "            response.raise_for_status()\n",
    "            \n",
    "            response_data = json.dumps(response.json())\n",
    "            response_data_as_json = json.loads(response_data)        \n",
    "                \n",
    "            collection.update_one({'_id': ObjectId(repo['_id'])},\n",
    "               {\"$set\": \n",
    "                {\n",
    "                    'full_name': response_data_as_json['full_name'],\n",
    "                    'description': response_data_as_json['description'],\n",
    "                    'created_at': response_data_as_json['created_at'],\n",
    "                    'pushed_at': response_data_as_json['pushed_at'],\n",
    "                    'updated_at': response_data_as_json['updated_at'],\n",
    "                    'size': response_data_as_json['size'],\n",
    "                    'language': response_data_as_json['language'],\n",
    "                    'forks': response_data_as_json['forks'],\n",
    "                    'watchers': response_data_as_json['watchers'],\n",
    "                    'stargazers_count': response_data_as_json['stargazers_count'],\n",
    "                    'available': True,\n",
    "                    'revised': True,\n",
    "                }\n",
    "               })\n",
    "\n",
    "            \n",
    "        except requests.exceptions.HTTPError as err:\n",
    "            \n",
    "            print(\"#\"*50)\n",
    "            print (\" I am assessing: \", repo_url, \" token: \", active_tkn)\n",
    "            print (\" Exception cause : \", err)\n",
    "            print(\"#\"*50)\n",
    "            \n",
    "            if 'Not Found' in str(err):\n",
    "                \n",
    "                collection.update_one({'_id': ObjectId(repo['_id'])},\n",
    "                   {\"$set\": \n",
    "                    {\n",
    "                        'available': False,\n",
    "                        'revised': True,\n",
    "                    }\n",
    "                   })\n"
   ]
  },
  {
   "cell_type": "code",
   "execution_count": null,
   "id": "ca43a732",
   "metadata": {},
   "outputs": [],
   "source": [
    "# availability_process(list_of_repositories)"
   ]
  }
 ],
 "metadata": {
  "kernelspec": {
   "display_name": "Py10",
   "language": "python",
   "name": "py10"
  },
  "language_info": {
   "codemirror_mode": {
    "name": "ipython",
    "version": 3
   },
   "file_extension": ".py",
   "mimetype": "text/x-python",
   "name": "python",
   "nbconvert_exporter": "python",
   "pygments_lexer": "ipython3",
   "version": "3.10.4"
  }
 },
 "nbformat": 4,
 "nbformat_minor": 5
}
